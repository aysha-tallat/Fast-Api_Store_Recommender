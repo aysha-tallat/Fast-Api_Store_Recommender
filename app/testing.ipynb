{
 "cells": [
  {
   "cell_type": "code",
   "execution_count": 2,
   "id": "15337d68",
   "metadata": {},
   "outputs": [
    {
     "data": {
      "text/html": [
       "<div>\n",
       "<style scoped>\n",
       "    .dataframe tbody tr th:only-of-type {\n",
       "        vertical-align: middle;\n",
       "    }\n",
       "\n",
       "    .dataframe tbody tr th {\n",
       "        vertical-align: top;\n",
       "    }\n",
       "\n",
       "    .dataframe thead th {\n",
       "        text-align: right;\n",
       "    }\n",
       "</style>\n",
       "<table border=\"1\" class=\"dataframe\">\n",
       "  <thead>\n",
       "    <tr style=\"text-align: right;\">\n",
       "      <th></th>\n",
       "      <th>Customer Name</th>\n",
       "      <th>Sub-Category</th>\n",
       "      <th>Sales</th>\n",
       "    </tr>\n",
       "  </thead>\n",
       "  <tbody>\n",
       "    <tr>\n",
       "      <th>0</th>\n",
       "      <td>Claire Gute</td>\n",
       "      <td>Bookcases</td>\n",
       "      <td>261.9600</td>\n",
       "    </tr>\n",
       "    <tr>\n",
       "      <th>1</th>\n",
       "      <td>Claire Gute</td>\n",
       "      <td>Chairs</td>\n",
       "      <td>731.9400</td>\n",
       "    </tr>\n",
       "    <tr>\n",
       "      <th>2</th>\n",
       "      <td>Darrin Van Huff</td>\n",
       "      <td>Labels</td>\n",
       "      <td>14.6200</td>\n",
       "    </tr>\n",
       "    <tr>\n",
       "      <th>3</th>\n",
       "      <td>Sean O'Donnell</td>\n",
       "      <td>Tables</td>\n",
       "      <td>957.5775</td>\n",
       "    </tr>\n",
       "    <tr>\n",
       "      <th>4</th>\n",
       "      <td>Sean O'Donnell</td>\n",
       "      <td>Storage</td>\n",
       "      <td>22.3680</td>\n",
       "    </tr>\n",
       "  </tbody>\n",
       "</table>\n",
       "</div>"
      ],
      "text/plain": [
       "     Customer Name Sub-Category     Sales\n",
       "0      Claire Gute    Bookcases  261.9600\n",
       "1      Claire Gute       Chairs  731.9400\n",
       "2  Darrin Van Huff       Labels   14.6200\n",
       "3   Sean O'Donnell       Tables  957.5775\n",
       "4   Sean O'Donnell      Storage   22.3680"
      ]
     },
     "execution_count": 2,
     "metadata": {},
     "output_type": "execute_result"
    }
   ],
   "source": [
    "import pandas as pd\n",
    "from sklearn.metrics.pairwise import cosine_similarity\n",
    "\n",
    "# Load data\n",
    "df = pd.read_excel(\"superstore.xlsx\", engine=\"openpyxl\")\n",
    "\n",
    "# Subset relevant columns\n",
    "df = df[['Customer Name', 'Sub-Category', 'Sales']]\n",
    "df.head()"
   ]
  },
  {
   "cell_type": "code",
   "execution_count": 3,
   "id": "ca306633",
   "metadata": {},
   "outputs": [
    {
     "name": "stdout",
     "output_type": "stream",
     "text": [
      "Sub-Category  Accessories  Appliances       Art   Binders  Bookcases  \\\n",
      "Sub-Category                                                           \n",
      "Accessories      1.000000    0.228389  0.179739  0.111672   0.174517   \n",
      "Appliances       0.228389    1.000000  0.228334  0.073717   0.122490   \n",
      "Art              0.179739    0.228334  1.000000  0.123349   0.141045   \n",
      "Binders          0.111672    0.073717  0.123349  1.000000   0.076669   \n",
      "Bookcases        0.174517    0.122490  0.141045  0.076669   1.000000   \n",
      "Chairs           0.273552    0.234733  0.261970  0.172705   0.161995   \n",
      "Copiers          0.048682    0.036205  0.127391  0.045974   0.034897   \n",
      "Envelopes        0.145892    0.114481  0.180546  0.091373   0.111434   \n",
      "Fasteners        0.162176    0.132210  0.178701  0.155897   0.127480   \n",
      "Furnishings      0.282980    0.222811  0.221294  0.225207   0.179493   \n",
      "Labels           0.114982    0.082054  0.124892  0.057671   0.123884   \n",
      "Machines         0.075226    0.080685  0.090520  0.055726   0.058843   \n",
      "Paper            0.337905    0.307015  0.281525  0.214608   0.228775   \n",
      "Phones           0.269738    0.226627  0.235925  0.155623   0.200233   \n",
      "Storage          0.232485    0.245345  0.231606  0.171113   0.137525   \n",
      "Supplies         0.028474    0.063198  0.094182  0.073679   0.038340   \n",
      "Tables           0.298811    0.174542  0.169667  0.172700   0.107563   \n",
      "\n",
      "Sub-Category    Chairs   Copiers  Envelopes  Fasteners  Furnishings    Labels  \\\n",
      "Sub-Category                                                                    \n",
      "Accessories   0.273552  0.048682   0.145892   0.162176     0.282980  0.114982   \n",
      "Appliances    0.234733  0.036205   0.114481   0.132210     0.222811  0.082054   \n",
      "Art           0.261970  0.127391   0.180546   0.178701     0.221294  0.124892   \n",
      "Binders       0.172705  0.045974   0.091373   0.155897     0.225207  0.057671   \n",
      "Bookcases     0.161995  0.034897   0.111434   0.127480     0.179493  0.123884   \n",
      "Chairs        1.000000  0.083594   0.169425   0.244259     0.279887  0.139122   \n",
      "Copiers       0.083594  1.000000   0.088701   0.016964     0.067804  0.039551   \n",
      "Envelopes     0.169425  0.088701   1.000000   0.111029     0.139984  0.174800   \n",
      "Fasteners     0.244259  0.016964   0.111029   1.000000     0.198976  0.090268   \n",
      "Furnishings   0.279887  0.067804   0.139984   0.198976     1.000000  0.174918   \n",
      "Labels        0.139122  0.039551   0.174800   0.090268     0.174918  1.000000   \n",
      "Machines      0.116252  0.025100   0.045439   0.097309     0.157589  0.030926   \n",
      "Paper         0.335592  0.076193   0.224589   0.250682     0.312869  0.170382   \n",
      "Phones        0.343679  0.109592   0.136519   0.223709     0.298777  0.164108   \n",
      "Storage       0.292087  0.093846   0.207669   0.191571     0.289403  0.158249   \n",
      "Supplies      0.038698  0.015671   0.102427   0.044250     0.121892  0.014728   \n",
      "Tables        0.240094  0.042934   0.121222   0.216917     0.208139  0.107250   \n",
      "\n",
      "Sub-Category  Machines     Paper    Phones   Storage  Supplies    Tables  \n",
      "Sub-Category                                                              \n",
      "Accessories   0.075226  0.337905  0.269738  0.232485  0.028474  0.298811  \n",
      "Appliances    0.080685  0.307015  0.226627  0.245345  0.063198  0.174542  \n",
      "Art           0.090520  0.281525  0.235925  0.231606  0.094182  0.169667  \n",
      "Binders       0.055726  0.214608  0.155623  0.171113  0.073679  0.172700  \n",
      "Bookcases     0.058843  0.228775  0.200233  0.137525  0.038340  0.107563  \n",
      "Chairs        0.116252  0.335592  0.343679  0.292087  0.038698  0.240094  \n",
      "Copiers       0.025100  0.076193  0.109592  0.093846  0.015671  0.042934  \n",
      "Envelopes     0.045439  0.224589  0.136519  0.207669  0.102427  0.121222  \n",
      "Fasteners     0.097309  0.250682  0.223709  0.191571  0.044250  0.216917  \n",
      "Furnishings   0.157589  0.312869  0.298777  0.289403  0.121892  0.208139  \n",
      "Labels        0.030926  0.170382  0.164108  0.158249  0.014728  0.107250  \n",
      "Machines      1.000000  0.122461  0.079254  0.122691  0.034006  0.074115  \n",
      "Paper         0.122461  1.000000  0.438783  0.361937  0.093344  0.290412  \n",
      "Phones        0.079254  0.438783  1.000000  0.298191  0.116726  0.221416  \n",
      "Storage       0.122691  0.361937  0.298191  1.000000  0.073354  0.229028  \n",
      "Supplies      0.034006  0.093344  0.116726  0.073354  1.000000  0.062511  \n",
      "Tables        0.074115  0.290412  0.221416  0.229028  0.062511  1.000000  \n"
     ]
    }
   ],
   "source": [
    "# Pivot: rows = customers, columns = sub-categories, values = sales\n",
    "pivot_df = df.pivot_table(index='Customer Name', columns='Sub-Category', values='Sales', aggfunc='sum', fill_value=0)\n",
    "\n",
    "# Transpose: now rows = products, columns = customers\n",
    "product_matrix = pivot_df.T\n",
    "\n",
    "# Compute cosine similarity between products\n",
    "similarity_matrix = pd.DataFrame(cosine_similarity(product_matrix), \n",
    "                                 index=product_matrix.index,\n",
    "                                 columns=product_matrix.index)\n",
    "print(similarity_matrix)"
   ]
  },
  {
   "cell_type": "code",
   "execution_count": 6,
   "id": "9977d0fa",
   "metadata": {},
   "outputs": [
    {
     "name": "stdout",
     "output_type": "stream",
     "text": [
      "Recommendations for 'Phones': ['Paper', 'Chairs', 'Furnishings']\n"
     ]
    }
   ],
   "source": [
    "def recommend_products(selected_product, top_n=3):\n",
    "    if selected_product not in similarity_matrix.columns:\n",
    "        return f\"Product '{selected_product}' not found in dataset.\"\n",
    "    \n",
    "    similar_items = similarity_matrix[selected_product].sort_values(ascending=False)\n",
    "    recommendations = similar_items.iloc[1:top_n+1].index.tolist()\n",
    "    return recommendations\n",
    "\n",
    "# Example usage\n",
    "if __name__ == \"__main__\":\n",
    "    item = \"Phones\"  # Replace with any Sub-Category from your dataset\n",
    "    print(f\"Recommendations for '{item}': {recommend_products(item)}\")"
   ]
  },
  {
   "cell_type": "code",
   "execution_count": null,
   "id": "ac2c106f",
   "metadata": {},
   "outputs": [],
   "source": []
  }
 ],
 "metadata": {
  "kernelspec": {
   "display_name": "store",
   "language": "python",
   "name": "python3"
  },
  "language_info": {
   "codemirror_mode": {
    "name": "ipython",
    "version": 3
   },
   "file_extension": ".py",
   "mimetype": "text/x-python",
   "name": "python",
   "nbconvert_exporter": "python",
   "pygments_lexer": "ipython3",
   "version": "3.13.3"
  }
 },
 "nbformat": 4,
 "nbformat_minor": 5
}
